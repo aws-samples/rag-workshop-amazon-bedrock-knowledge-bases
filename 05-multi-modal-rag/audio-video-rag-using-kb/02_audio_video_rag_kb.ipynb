{
 "cells": [
  {
   "cell_type": "code",
   "execution_count": null,
   "metadata": {
    "vscode": {
     "languageId": "plaintext"
    }
   },
   "outputs": [],
   "source": [
    "%pip install --upgrade pip --quiet\n",
    "%pip install -r ../../requirements.txt --no-deps --quiet\n",
    "%pip install -r ../../requirements.txt --upgrade --quiet"
   ]
  }
 ],
 "metadata": {
  "language_info": {
   "name": "python"
  }
 },
 "nbformat": 4,
 "nbformat_minor": 2
}
