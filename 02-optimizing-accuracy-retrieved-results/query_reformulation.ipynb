{
 "cells": [
  {
   "cell_type": "markdown",
   "id": "ccd8ae92a248be2d",
   "metadata": {
    "tags": []
   },
   "source": [
    "# Query Reformulation Supported by Amazon Bedrock Knowledge Bases\n",
    "\n",
    "Optimizing quality, cost, and latency are some of the most important factors when developing RAG-based GenAI applications. Very often, input queries to an Foundation Model (FM) can be very complex with many questions and complex relationships. With such complex queries, the embedding step may mask or dilute important components of the query, resulting in retrieved chunks that may not provide context for all aspects of the query. This can produce a less than desirable response from your RAG application.\n",
    "\n",
    "Now with query reformulation, we can take a complex input prompt and break it down into multiple sub-queries. These sub-queries will then separately go through their own retrieval steps for relevant chunks. The resulting chunks will then be pooled and ranked together before passing them to the FM to generate a response. Query reformulation is another tool we can use which can help increase accuracy for complex queries that your application may face in production.\n"
   ]
  },
  {
   "cell_type": "markdown",
   "id": "c2e87cd081d14b9c",
   "metadata": {
    "tags": []
   },
   "source": [
    "# Notebook setup\n",
    "Follow the steps below with a compatible role and compute environment to get started"
   ]
  },
  {
   "cell_type": "code",
   "execution_count": 1,
   "id": "fcc27605-f8c1-43b6-b1ce-ceabf90784f1",
   "metadata": {},
   "outputs": [
    {
     "name": "stdout",
     "output_type": "stream",
     "text": [
      "Note: you may need to restart the kernel to use updated packages.\n",
      "Note: you may need to restart the kernel to use updated packages.\n",
      "Note: you may need to restart the kernel to use updated packages.\n"
     ]
    }
   ],
   "source": [
    "%pip install --upgrade pip --quiet\n",
    "%pip install -r ../requirements.txt --no-deps --quiet\n",
    "%pip install -r ../requirements.txt --upgrade --quiet"
   ]
  },
  {
   "cell_type": "code",
   "execution_count": 2,
   "id": "7c9e1bd6",
   "metadata": {},
   "outputs": [
    {
     "data": {
      "text/html": [
       "<script>Jupyter.notebook.kernel.restart()</script>"
      ],
      "text/plain": [
       "<IPython.core.display.HTML object>"
      ]
     },
     "execution_count": 2,
     "metadata": {},
     "output_type": "execute_result"
    }
   ],
   "source": [
    "# restart kernel\n",
    "from IPython.core.display import HTML\n",
    "HTML(\"<script>Jupyter.notebook.kernel.restart()</script>\")"
   ]
  },
  {
   "cell_type": "code",
   "execution_count": 3,
   "id": "2a1ec769-4e9b-43d3-bbc9-faed7fabf270",
   "metadata": {},
   "outputs": [],
   "source": [
    "import os\n",
    "import sys\n",
    "import time\n",
    "import boto3\n",
    "import logging\n",
    "import pprint\n",
    "import json\n",
    "\n",
    "# Set the path to import module\n",
    "from pathlib import Path\n",
    "current_path = Path().resolve()\n",
    "current_path = current_path.parent\n",
    "if str(current_path) not in sys.path:\n",
    "    sys.path.append(str(current_path))\n",
    "# Print sys.path to verify\n",
    "# print(sys.path)\n",
    "\n",
    "from utils.knowledge_base import BedrockKnowledgeBase"
   ]
  },
  {
   "cell_type": "code",
   "execution_count": 4,
   "id": "6739ded2",
   "metadata": {},
   "outputs": [
    {
     "data": {
      "text/plain": [
       "('us-west-2', '017444429555')"
      ]
     },
     "execution_count": 4,
     "metadata": {},
     "output_type": "execute_result"
    }
   ],
   "source": [
    "#Clients\n",
    "s3_client = boto3.client('s3')\n",
    "sts_client = boto3.client('sts')\n",
    "session = boto3.session.Session()\n",
    "region =  session.region_name\n",
    "account_id = sts_client.get_caller_identity()[\"Account\"]\n",
    "bedrock_agent_client = boto3.client('bedrock-agent')\n",
    "bedrock_agent_runtime_client = boto3.client('bedrock-agent-runtime') \n",
    "logging.basicConfig(format='[%(asctime)s] p%(process)s {%(filename)s:%(lineno)d} %(levelname)s - %(message)s', level=logging.INFO)\n",
    "logger = logging.getLogger(__name__)\n",
    "region, account_id"
   ]
  },
  {
   "cell_type": "code",
   "execution_count": 5,
   "id": "1608e31e-6758-46ae-abc3-753148ffaa6e",
   "metadata": {},
   "outputs": [],
   "source": [
    "import time\n",
    "\n",
    "# Get the current timestamp\n",
    "current_time = time.time()\n",
    "\n",
    "# Format the timestamp as a string\n",
    "timestamp_str = time.strftime(\"%Y%m%d%H%M%S\", time.localtime(current_time))[-7:]\n",
    "# Create the suffix using the timestamp\n",
    "suffix = f\"{timestamp_str}\"\n",
    "knowledge_base_name_standard = 'standard-kb'\n",
    "knowledge_base_description = \"Octank 10k KB\"\n",
    "bucket_name = f'{knowledge_base_name_standard}-{suffix}'\n",
    "\n",
    "foundation_model = \"anthropic.claude-3-sonnet-20240229-v1:0\"\n",
    "\n",
    "data_source=[{\"type\": \"S3\", \"bucket_name\": bucket_name}]"
   ]
  },
  {
   "cell_type": "markdown",
   "id": "0152d906-9dff-4119-9964-d6a9b96a4d16",
   "metadata": {},
   "source": [
    "## 2 - Create knowledge bases with fixed chunking strategy"
   ]
  },
  {
   "cell_type": "code",
   "execution_count": 6,
   "id": "bb08e2cc-b6e4-4ccd-9492-200c899ca666",
   "metadata": {},
   "outputs": [
    {
     "name": "stdout",
     "output_type": "stream",
     "text": [
      "========================================================================================\n",
      "Step 1 - Creating or retrieving S3 bucket(s) for Knowledge Base documents\n",
      "['standard-kb-4005552']\n",
      "buckets_to_check:  ['standard-kb-4005552']\n",
      "Creating bucket standard-kb-4005552\n",
      "========================================================================================\n",
      "Step 2 - Creating Knowledge Base Execution Role (AmazonBedrockExecutionRoleForKnowledgeBase_4005552-f) and Policies\n",
      "========================================================================================\n",
      "Step 3 - Creating OSS encryption, network and data access policies\n",
      "========================================================================================\n",
      "Step 4 - Creating OSS Collection (this step takes a couple of minutes to complete)\n",
      "{ 'ResponseMetadata': { 'HTTPHeaders': { 'connection': 'keep-alive',\n",
      "                                         'content-length': '320',\n",
      "                                         'content-type': 'application/x-amz-json-1.0',\n",
      "                                         'date': 'Tue, 04 Mar 2025 00:55:55 '\n",
      "                                                 'GMT',\n",
      "                                         'x-amzn-requestid': 'ddd22e7a-756a-4a59-a259-b8401e67564b'},\n",
      "                        'HTTPStatusCode': 200,\n",
      "                        'RequestId': 'ddd22e7a-756a-4a59-a259-b8401e67564b',\n",
      "                        'RetryAttempts': 0},\n",
      "  'createCollectionDetail': { 'arn': 'arn:aws:aoss:us-west-2:017444429555:collection/57jjk72wok13fn8t7d5f',\n",
      "                              'createdDate': 1741049755867,\n",
      "                              'id': '57jjk72wok13fn8t7d5f',\n",
      "                              'kmsKeyArn': 'auto',\n",
      "                              'lastModifiedDate': 1741049755867,\n",
      "                              'name': 'bedrock-sample-rag-4005552-f',\n",
      "                              'standbyReplicas': 'ENABLED',\n",
      "                              'status': 'CREATING',\n",
      "                              'type': 'VECTORSEARCH'}}\n",
      "57jjk72wok13fn8t7d5f.us-west-2.aoss.amazonaws.com\n",
      "Creating collection...\n",
      "..............................\n",
      "Collection successfully created:\n",
      "[ { 'arn': 'arn:aws:aoss:us-west-2:017444429555:collection/57jjk72wok13fn8t7d5f',\n",
      "    'collectionEndpoint': 'https://57jjk72wok13fn8t7d5f.us-west-2.aoss.amazonaws.com',\n",
      "    'createdDate': 1741049755867,\n",
      "    'dashboardEndpoint': 'https://57jjk72wok13fn8t7d5f.us-west-2.aoss.amazonaws.com/_dashboards',\n",
      "    'id': '57jjk72wok13fn8t7d5f',\n",
      "    'kmsKeyArn': 'auto',\n",
      "    'lastModifiedDate': 1741049778902,\n",
      "    'name': 'bedrock-sample-rag-4005552-f',\n",
      "    'standbyReplicas': 'ENABLED',\n",
      "    'status': 'ACTIVE',\n",
      "    'type': 'VECTORSEARCH'}]\n",
      "Opensearch serverless arn:  arn:aws:iam::017444429555:policy/AmazonBedrockOSSPolicyForKnowledgeBase_4005552-f\n",
      "Sleeping for a minute to ensure data access rules have been enforced\n",
      "========================================================================================\n",
      "Step 5 - Creating OSS Vector Index\n"
     ]
    },
    {
     "name": "stderr",
     "output_type": "stream",
     "text": [
      "[2025-03-04 00:57:26,726] p5786 {base.py:258} INFO - PUT https://57jjk72wok13fn8t7d5f.us-west-2.aoss.amazonaws.com:443/bedrock-sample-rag-index-4005552-f [status:200 request:0.373s]\n"
     ]
    },
    {
     "name": "stdout",
     "output_type": "stream",
     "text": [
      "\n",
      "Creating index:\n",
      "{ 'acknowledged': True,\n",
      "  'index': 'bedrock-sample-rag-index-4005552-f',\n",
      "  'shards_acknowledged': True}\n",
      "========================================================================================\n",
      "Step 6 - Will create Lambda Function if chunking strategy selected as CUSTOM\n",
      "Not creating lambda function as chunking strategy is FIXED_SIZE\n",
      "========================================================================================\n",
      "Step 7 - Creating Knowledge Base\n",
      "{ 'createdAt': datetime.datetime(2025, 3, 4, 0, 58, 26, 837726, tzinfo=tzlocal()),\n",
      "  'description': 'Octank 10k KB',\n",
      "  'knowledgeBaseArn': 'arn:aws:bedrock:us-west-2:017444429555:knowledge-base/W9INS8JNER',\n",
      "  'knowledgeBaseConfiguration': { 'type': 'VECTOR',\n",
      "                                  'vectorKnowledgeBaseConfiguration': { 'embeddingModelArn': 'arn:aws:bedrock:us-west-2::foundation-model/amazon.titan-embed-text-v2:0'}},\n",
      "  'knowledgeBaseId': 'W9INS8JNER',\n",
      "  'name': 'standard-kb-4005552',\n",
      "  'roleArn': 'arn:aws:iam::017444429555:role/AmazonBedrockExecutionRoleForKnowledgeBase_4005552-f',\n",
      "  'status': 'CREATING',\n",
      "  'storageConfiguration': { 'opensearchServerlessConfiguration': { 'collectionArn': 'arn:aws:aoss:us-west-2:017444429555:collection/57jjk72wok13fn8t7d5f',\n",
      "                                                                   'fieldMapping': { 'metadataField': 'text-metadata',\n",
      "                                                                                     'textField': 'text',\n",
      "                                                                                     'vectorField': 'vector'},\n",
      "                                                                   'vectorIndexName': 'bedrock-sample-rag-index-4005552-f'},\n",
      "                            'type': 'OPENSEARCH_SERVERLESS'},\n",
      "  'updatedAt': datetime.datetime(2025, 3, 4, 0, 58, 26, 837726, tzinfo=tzlocal())}\n",
      "Creating Data Sources\n",
      "{ 'createdAt': datetime.datetime(2025, 3, 4, 0, 58, 26, 837726, tzinfo=tzlocal()),\n",
      "  'description': 'Octank 10k KB',\n",
      "  'knowledgeBaseArn': 'arn:aws:bedrock:us-west-2:017444429555:knowledge-base/W9INS8JNER',\n",
      "  'knowledgeBaseConfiguration': { 'type': 'VECTOR',\n",
      "                                  'vectorKnowledgeBaseConfiguration': { 'embeddingModelArn': 'arn:aws:bedrock:us-west-2::foundation-model/amazon.titan-embed-text-v2:0'}},\n",
      "  'knowledgeBaseId': 'W9INS8JNER',\n",
      "  'name': 'standard-kb-4005552',\n",
      "  'roleArn': 'arn:aws:iam::017444429555:role/AmazonBedrockExecutionRoleForKnowledgeBase_4005552-f',\n",
      "  'status': 'ACTIVE',\n",
      "  'storageConfiguration': { 'opensearchServerlessConfiguration': { 'collectionArn': 'arn:aws:aoss:us-west-2:017444429555:collection/57jjk72wok13fn8t7d5f',\n",
      "                                                                   'fieldMapping': { 'metadataField': 'text-metadata',\n",
      "                                                                                     'textField': 'text',\n",
      "                                                                                     'vectorField': 'vector'},\n",
      "                                                                   'vectorIndexName': 'bedrock-sample-rag-index-4005552-f'},\n",
      "                            'type': 'OPENSEARCH_SERVERLESS'},\n",
      "  'updatedAt': datetime.datetime(2025, 3, 4, 0, 58, 26, 837726, tzinfo=tzlocal())}\n",
      "Creating Data Sources\n",
      "1 data source: S3\n",
      "============Chunking config========\n",
      " {'chunkingConfiguration': {'chunkingStrategy': 'FIXED_SIZE', 'fixedSizeChunkingConfiguration': {'maxTokens': 300, 'overlapPercentage': 20}}}\n",
      "{ 'createdAt': datetime.datetime(2025, 3, 4, 0, 58, 29, 609372, tzinfo=tzlocal()),\n",
      "  'dataDeletionPolicy': 'DELETE',\n",
      "  'dataSourceConfiguration': { 's3Configuration': { 'bucketArn': 'arn:aws:s3:::standard-kb-4005552'},\n",
      "                               'type': 'S3'},\n",
      "  'dataSourceId': 'R0XGPXM6EW',\n",
      "  'description': 'Octank 10k KB',\n",
      "  'knowledgeBaseId': 'W9INS8JNER',\n",
      "  'name': 'W9INS8JNER-s3',\n",
      "  'status': 'AVAILABLE',\n",
      "  'updatedAt': datetime.datetime(2025, 3, 4, 0, 58, 29, 609372, tzinfo=tzlocal()),\n",
      "  'vectorIngestionConfiguration': { 'chunkingConfiguration': { 'chunkingStrategy': 'FIXED_SIZE',\n",
      "                                                               'fixedSizeChunkingConfiguration': { 'maxTokens': 300,\n",
      "                                                                                                   'overlapPercentage': 20}}}}\n",
      "[ { 'createdAt': datetime.datetime(2025, 3, 4, 0, 58, 29, 609372, tzinfo=tzlocal()),\n",
      "    'dataDeletionPolicy': 'DELETE',\n",
      "    'dataSourceConfiguration': { 's3Configuration': { 'bucketArn': 'arn:aws:s3:::standard-kb-4005552'},\n",
      "                                 'type': 'S3'},\n",
      "    'dataSourceId': 'R0XGPXM6EW',\n",
      "    'description': 'Octank 10k KB',\n",
      "    'knowledgeBaseId': 'W9INS8JNER',\n",
      "    'name': 'W9INS8JNER-s3',\n",
      "    'status': 'AVAILABLE',\n",
      "    'updatedAt': datetime.datetime(2025, 3, 4, 0, 58, 29, 609372, tzinfo=tzlocal()),\n",
      "    'vectorIngestionConfiguration': { 'chunkingConfiguration': { 'chunkingStrategy': 'FIXED_SIZE',\n",
      "                                                                 'fixedSizeChunkingConfiguration': { 'maxTokens': 300,\n",
      "                                                                                                     'overlapPercentage': 20}}}}]\n",
      "========================================================================================\n"
     ]
    }
   ],
   "source": [
    "knowledge_base_standard = BedrockKnowledgeBase(\n",
    "    kb_name=f'{knowledge_base_name_standard}-{suffix}',\n",
    "    kb_description=knowledge_base_description,\n",
    "    data_sources=data_source,\n",
    "    chunking_strategy = \"FIXED_SIZE\", \n",
    "    suffix = f'{suffix}-f'\n",
    ")"
   ]
  },
  {
   "cell_type": "markdown",
   "id": "266fae8a-67b6-49e0-8190-c02699a74391",
   "metadata": {},
   "source": [
    "## 2.1 Upload the dataset to Amazon S3\n",
    "Now that we have created the knowledge base, let's populate it with the `Octank financial 10K` report dataset. The Knowledge Base data source expects the data to be available on the S3 bucket connected to it and changes on the data can be syncronized to the knowledge base using the `StartIngestionJob` API call. In this example we will use the [boto3 abstraction](https://boto3.amazonaws.com/v1/documentation/api/latest/reference/services/bedrock-agent/client/start_ingestion_job.html) of the API, via our helper classe. \n",
    "\n",
    "Let's first upload the menu's data available on the `dataset` folder to s3."
   ]
  },
  {
   "cell_type": "code",
   "execution_count": 7,
   "id": "bc92b22d-f795-4e16-aa8a-1d142c22c09e",
   "metadata": {},
   "outputs": [
    {
     "name": "stdout",
     "output_type": "stream",
     "text": [
      "Skipping file ../synthetic_dataset/LICENSE\n",
      "Skipping file ../synthetic_dataset/NOTICE\n",
      "Skipping file ../synthetic_dataset/README.md\n",
      "uploading file ../synthetic_dataset/bda.m4v to standard-kb-4005552\n",
      "uploading file ../synthetic_dataset/octank_financial_10K.pdf to standard-kb-4005552\n",
      "uploading file ../synthetic_dataset/podcastdemo.mp3 to standard-kb-4005552\n"
     ]
    }
   ],
   "source": [
    "import os\n",
    "\n",
    "def upload_directory(path, bucket_name):\n",
    "    for root, dirs, files in os.walk(path):\n",
    "        for file in files:\n",
    "            file_to_upload = os.path.join(root, file)\n",
    "            if file not in [\"LICENSE\", \"NOTICE\", \"README.md\"]:\n",
    "                print(f\"uploading file {file_to_upload} to {bucket_name}\")\n",
    "                s3_client.upload_file(file_to_upload, bucket_name, file)\n",
    "            else:\n",
    "                print(f\"Skipping file {file_to_upload}\")\n",
    "\n",
    "upload_directory(\"../synthetic_dataset\", bucket_name)\n"
   ]
  },
  {
   "cell_type": "code",
   "execution_count": 8,
   "id": "7fed7fcb-fa31-4d0a-8417-339477716a5d",
   "metadata": {},
   "outputs": [
    {
     "name": "stdout",
     "output_type": "stream",
     "text": [
      "job 1 started successfully\n",
      "\n",
      "{ 'dataSourceId': 'R0XGPXM6EW',\n",
      "  'failureReasons': [ '[\"Encountered error: Ignored 2 files as their file '\n",
      "                      'format was not supported. [Files: '\n",
      "                      's3://standard-kb-4005552/bda.m4v, '\n",
      "                      's3://standard-kb-4005552/podcastdemo.mp3]. Call to '\n",
      "                      'Customer Source did not succeed.\"]'],\n",
      "  'ingestionJobId': '6FURMS5LXU',\n",
      "  'knowledgeBaseId': 'W9INS8JNER',\n",
      "  'startedAt': datetime.datetime(2025, 3, 4, 0, 59, 0, 870376, tzinfo=tzlocal()),\n",
      "  'statistics': { 'numberOfDocumentsDeleted': 0,\n",
      "                  'numberOfDocumentsFailed': 2,\n",
      "                  'numberOfDocumentsScanned': 3,\n",
      "                  'numberOfMetadataDocumentsModified': 0,\n",
      "                  'numberOfMetadataDocumentsScanned': 0,\n",
      "                  'numberOfModifiedDocumentsIndexed': 0,\n",
      "                  'numberOfNewDocumentsIndexed': 1},\n",
      "  'status': 'COMPLETE',\n",
      "  'updatedAt': datetime.datetime(2025, 3, 4, 0, 59, 10, 381170, tzinfo=tzlocal())}\n",
      "........................................\r"
     ]
    }
   ],
   "source": [
    "# ensure that the kb is available\n",
    "time.sleep(30)\n",
    "# sync knowledge base\n",
    "knowledge_base_standard.start_ingestion_job()"
   ]
  },
  {
   "cell_type": "code",
   "execution_count": 9,
   "id": "b56b70ad-5474-4e24-945b-d9df129f86cd",
   "metadata": {},
   "outputs": [
    {
     "name": "stdout",
     "output_type": "stream",
     "text": [
      "'W9INS8JNER'\n"
     ]
    }
   ],
   "source": [
    "kb_id = knowledge_base_standard.get_knowledge_base_id()"
   ]
  },
  {
   "cell_type": "markdown",
   "id": "fb05c48b103ab62",
   "metadata": {},
   "source": [
    "# Query Reformulation in Action\n",
    "\n",
    "In this notebook, we will investigate a simple and a more complex query that could benefit from query reformulation and see how it affects the generated responses. "
   ]
  },
  {
   "cell_type": "markdown",
   "id": "c884bf95de0f06a4",
   "metadata": {},
   "source": [
    "##  Complex prompt\n",
    "\n",
    "To demonstrate the functionality, lets take a look at a query that has a few asks being made about some information contained in the Octank 10K financial document. This query contains a few asks that are not semantically related. When this query is embedded during the retrieval step, some aspects of the query may become diluted and therefore the relevant chunks returned may not address all components of this complex query.\n",
    "\n",
    "To query our Knowledge Base and generate a response we will use the __retrieve_and_generate__ API call. To use the query reformulation feature, we will include in our knowledge base configuration the additional information as shown below:\n",
    "\n",
    "```\n",
    "'orchestrationConfiguration': {\n",
    "        'queryTransformationConfiguration': {\n",
    "            'type': 'QUERY_DECOMPOSITION'\n",
    "        }\n",
    "    }\n",
    "```\n",
    "\n",
    "__Note:__ The output response structure is the same as a normal __retrieve_and_generate__ without query reformulation."
   ]
  },
  {
   "cell_type": "markdown",
   "id": "9360c879265e8612",
   "metadata": {},
   "source": [
    "#### Without Query Reformulation\n",
    "\n",
    "Let's see how the generated result looks like for the following query without using query reformulation: \n",
    "\n",
    "\"Where is the Octank company waterfront building located and how does the whistleblower scandal hurt the company and its image?\""
   ]
  },
  {
   "cell_type": "code",
   "execution_count": 10,
   "id": "40680d2c",
   "metadata": {},
   "outputs": [],
   "source": [
    "query = \"What is octank tower and how does the whistleblower scandal hurt the company and its image?\""
   ]
  },
  {
   "cell_type": "code",
   "execution_count": 11,
   "id": "6e17f767c1612d15",
   "metadata": {
    "ExecuteTime": {
     "end_time": "2024-07-02T00:15:47.357874Z",
     "start_time": "2024-07-02T00:15:41.533749Z"
    },
    "tags": []
   },
   "outputs": [
    {
     "name": "stdout",
     "output_type": "stream",
     "text": [
      "The search results do not mention anything called \"Octank Tower\". However, they do provide details on a whistleblower scandal involving Octank Financial, a company that provides financial products and services. The scandal involved allegations that the company's former Chief Financial Officer, Person X, engaged in insider trading and other illegal activities. This scandal has significantly hurt Octank Financial's reputation and image in several ways: The company's stock price plummeted after news of the investigation broke, causing substantial losses for shareholders. Many began questioning Octank's ability to maintain ethical standards and protect investors. Employee morale also declined as there was uncertainty about the company's future and potential fallout from the scandal. While Octank has taken steps to address the situation, such as implementing new policies, establishing a whistleblower hotline, and cooperating with investigations, the scandal has still significantly damaged the company's reputation and image in the financial industry.\n",
      "\n"
     ]
    }
   ],
   "source": [
    "response_ret = bedrock_agent_runtime_client.retrieve_and_generate(\n",
    "    input={\n",
    "        \"text\": query\n",
    "    },\n",
    "    retrieveAndGenerateConfiguration={\n",
    "        \"type\": \"KNOWLEDGE_BASE\",\n",
    "        \"knowledgeBaseConfiguration\": {\n",
    "            'knowledgeBaseId': kb_id,\n",
    "            \"modelArn\": \"arn:aws:bedrock:{}::foundation-model/{}\".format(region, foundation_model),\n",
    "            \"retrievalConfiguration\": {\n",
    "                \"vectorSearchConfiguration\": {\n",
    "                    \"numberOfResults\":5\n",
    "                } \n",
    "            }\n",
    "        }\n",
    "    }\n",
    ")\n",
    "\n",
    "\n",
    "# generated text output\n",
    "\n",
    "print(response_ret['output']['text'],end='\\n'*2)"
   ]
  },
  {
   "cell_type": "code",
   "execution_count": 12,
   "id": "f619f389",
   "metadata": {},
   "outputs": [
    {
     "name": "stdout",
     "output_type": "stream",
     "text": [
      "# of citations or chunks used to generate the response:  3\n",
      "Chunk 1:  We also partner with local organizations to provide financial support and resources to those in need. Our community impact team is led by PersonE, our Head of Community Impact.     In conclusion, Octank Financial's mission is to empower businesses and individuals to achieve their financial goals through innovative, accessible, and customer-centric financial solutions. We are committed to delivering exceptional value to our customers, supporting our communities, and making a positive impact on society.     | Pillar | Objective | | --- | --- | | Innovation | Develop cutting-edge financial products and services | | Accessibility | Make financial services accessible to everyone | | Customer-centricity | Provide exceptional customer service and build long-term relationships |Whistleblower scandal with Person X, and its impact on the company     In a shocking turn of events, Octank Financial has recently been embroiled in a whistleblower scandal involving a high-ranking executive, Person X. The scandal has sent shockwaves through the company and the financial industry as a whole, raising serious concerns about corporate ethics and governance.     Person X, who served as Octank's Chief Financial Officer (CFO), was accused of engaging in insider trading and other illegal activities. The allegations were brought to light by an anonymous whistleblower, who provided evidence of Person X's wrongdoing to the Securities and Exchange Commission (SEC).     The impact of the scandal on Octank has been significant. The company's stock price plummeted following the news of the investigation, causing substantial losses for shareholders.\n",
      "\n",
      "Chunk 1 Location:  {'s3Location': {'uri': 's3://standard-kb-4005552/octank_financial_10K.pdf'}, 'type': 'S3'}\n",
      "\n",
      "Chunk 1 Metadata:  {'x-amz-bedrock-kb-source-uri': 's3://standard-kb-4005552/octank_financial_10K.pdf', 'x-amz-bedrock-kb-document-page-number': 43.0, 'x-amz-bedrock-kb-chunk-id': '1%3A0%3AJFSpXpUBb0FvOKWB5nUj', 'x-amz-bedrock-kb-data-source-id': 'R0XGPXM6EW'}\n",
      "\n",
      "Chunk 2:  The impact of the scandal on Octank has been significant. The company's stock price plummeted following the news of the investigation, causing substantial losses for shareholders. Additionally, the company's reputation has taken a major hit, with many questioning its ability to maintain ethical standards and protect investors.     To make matters worse, the scandal has also had a ripple effect on Octank's employees. Morale has taken a hit, with many feeling demoralized and uncertain about the future of the company. Furthermore, the investigation has created a sense of unease and uncertainty, as employees worry about the potential fallout and impact on their jobs.     In response to the scandal, Octank has taken swift action to address the situation. The company has launched an internal investigation and has cooperated fully with the SEC's investigation. Person X has been placed on administrative leave and has since resigned from the company.     Octank has also taken steps to strengthen its corporate governance and ethical standards. The company has implemented new policies and procedures to prevent insider trading and other illegal activities. Additionally, Octank has established a whistleblower hotline, encouraging employees to report any concerns or suspicions of wrongdoing.     The scandal has also highlighted the importance of whistleblowers in uncovering fraud and other illegal activities. Whistleblowers play a critical role in holding corporations accountable and protecting investors.\n",
      "\n",
      "Chunk 2 Location:  {'s3Location': {'uri': 's3://standard-kb-4005552/octank_financial_10K.pdf'}, 'type': 'S3'}\n",
      "\n",
      "Chunk 2 Metadata:  {'x-amz-bedrock-kb-source-uri': 's3://standard-kb-4005552/octank_financial_10K.pdf', 'x-amz-bedrock-kb-document-page-number': 44.0, 'x-amz-bedrock-kb-chunk-id': '1%3A0%3AJVSpXpUBb0FvOKWB5nUj', 'x-amz-bedrock-kb-data-source-id': 'R0XGPXM6EW'}\n",
      "\n",
      "Chunk 3:  Person X, who served as Octank's Chief Financial Officer (CFO), was accused of engaging in insider trading and other illegal activities. The allegations were brought to light by an anonymous whistleblower, who provided evidence of Person X's wrongdoing to the Securities and Exchange Commission (SEC).     The impact of the scandal on Octank has been significant. The company's stock price plummeted following the news of the investigation, causing substantial losses for shareholders. Additionally, the company's reputation has taken a major hit, with many questioning its ability to maintain ethical standards and protect investors.     To make matters worse, the scandal has also had a ripple effect on Octank's employees. Morale has taken a hit, with many feeling demoralized and uncertain about the future of the company. Furthermore, the investigation has created a sense of unease and uncertainty, as employees worry about the potential fallout and impact on their jobs.     In response to the scandal, Octank has taken swift action to address the situation. The company has launched an internal investigation and has cooperated fully with the SEC's investigation. Person X has been placed on administrative leave and has since resigned from the company.     Octank has also taken steps to strengthen its corporate governance and ethical standards. The company has implemented new policies and procedures to prevent insider trading and other illegal activities. Additionally, Octank has established a whistleblower hotline, encouraging employees to report any concerns or suspicions of wrongdoing.\n",
      "\n",
      "Chunk 3 Location:  {'s3Location': {'uri': 's3://standard-kb-4005552/octank_financial_10K.pdf'}, 'type': 'S3'}\n",
      "\n",
      "Chunk 3 Metadata:  {'x-amz-bedrock-kb-source-uri': 's3://standard-kb-4005552/octank_financial_10K.pdf', 'x-amz-bedrock-kb-document-page-number': 76.0, 'x-amz-bedrock-kb-chunk-id': '1%3A0%3Ax3ypXpUBDVRyoLjv6d1Y', 'x-amz-bedrock-kb-data-source-id': 'R0XGPXM6EW'}\n",
      "\n"
     ]
    }
   ],
   "source": [
    "response_without_qr = response_ret['citations'][0]['retrievedReferences']\n",
    "print(\"# of citations or chunks used to generate the response: \", len(response_without_qr))\n",
    "def citations_rag_print(response_ret):\n",
    "#structure 'retrievalResults': list of contents. Each list has content, location, score, metadata\n",
    "    for num,chunk in enumerate(response_ret,1):\n",
    "        print(f'Chunk {num}: ',chunk['content']['text'],end='\\n'*2)\n",
    "        print(f'Chunk {num} Location: ',chunk['location'],end='\\n'*2)\n",
    "        print(f'Chunk {num} Metadata: ',chunk['metadata'],end='\\n'*2)\n",
    "\n",
    "citations_rag_print(response_without_qr)"
   ]
  },
  {
   "cell_type": "markdown",
   "id": "7cf1f43f-2157-4e25-b7d8-e9d84030efcf",
   "metadata": {},
   "source": [
    "As seen from the above citations, our retrieval with the complex query did not return any chunks relevant to the building, instead focusing on embeddings that was most similar to the whistleblower incident. \n",
    "\n",
    "This may indicate the embedding of the query resulted in some dilution of the semantics of that part of the query."
   ]
  },
  {
   "cell_type": "markdown",
   "id": "661308d67c7b9edf",
   "metadata": {},
   "source": [
    "#### With Query Reformulation\n",
    "\n",
    "Now let's see how query reformulation can benefit the more aligned context retrieval, which in turn, will enhace the accuracy of response generation."
   ]
  },
  {
   "cell_type": "code",
   "execution_count": 13,
   "id": "f1e8587c",
   "metadata": {},
   "outputs": [
    {
     "name": "stdout",
     "output_type": "stream",
     "text": [
      "Octank Tower is the iconic headquarters of Octank Financial, a massive 800,000 square foot office building that houses over 3,500 employees across various departments. Designed by a renowned architect, the Tower is a symbol of Octank's commitment to innovation and sustainability, featuring cutting-edge technology and eco-friendly amenities like solar panels and rainwater harvesting systems. It has received awards like LEED Platinum certification for its green initiatives. The whistleblower scandal involving the company's former Chief Financial Officer (CFO) Person X, who was accused of insider trading and other illegal activities, has significantly hurt Octank Financial's reputation and image. The scandal caused Octank's stock price to plummet, resulting in substantial losses for shareholders. It has also led to a decline in employee morale and created a sense of unease and uncertainty within the company about its future. Octank's ability to maintain ethical standards and protect investors has been called into question.\n",
      "\n"
     ]
    }
   ],
   "source": [
    "response_ret = bedrock_agent_runtime_client.retrieve_and_generate(\n",
    "    input={\n",
    "        \"text\": query\n",
    "    },\n",
    "    retrieveAndGenerateConfiguration={\n",
    "        \"type\": \"KNOWLEDGE_BASE\",\n",
    "        \"knowledgeBaseConfiguration\": {\n",
    "            'knowledgeBaseId': kb_id,\n",
    "            \"modelArn\": \"arn:aws:bedrock:{}::foundation-model/{}\".format(region, foundation_model),\n",
    "            \"retrievalConfiguration\": {\n",
    "                \"vectorSearchConfiguration\": {\n",
    "                    \"numberOfResults\":5\n",
    "                } \n",
    "            },\n",
    "            'orchestrationConfiguration': {\n",
    "                'queryTransformationConfiguration': {\n",
    "                    'type': 'QUERY_DECOMPOSITION'\n",
    "                }\n",
    "            }\n",
    "        }\n",
    "    }\n",
    ")\n",
    "\n",
    "\n",
    "# generated text output\n",
    "\n",
    "print(response_ret['output']['text'],end='\\n'*2)"
   ]
  },
  {
   "cell_type": "markdown",
   "id": "ce888f21-54d0-4e0f-8c54-4d0fc0a27b3b",
   "metadata": {},
   "source": [
    "Let's take a look at the retrieved chunks with query reformulation"
   ]
  },
  {
   "cell_type": "code",
   "execution_count": 14,
   "id": "4fd6aa0c",
   "metadata": {},
   "outputs": [
    {
     "name": "stdout",
     "output_type": "stream",
     "text": [
      "# of citations or chunks used to generate the response:  1\n",
      "Chunk 1:  This iconic structure, designed by renowned architect PersonA, is a symbol of our commitment to innovation and sustainability. Octank Tower boasts 800,000 square feet of office space, housing more than 3,500 employees across various departments, including research and development, marketing, finance, and human resources.     The building is equipped with cutting-edge technology, including a sophisticated building management system that optimizes energy efficiency and indoor air quality. Octank Tower has received several awards for its green initiatives, including LEED Platinum certification, and features a range of eco-friendly amenities, such as solar panels, rainwater harvesting systems, and electric vehicle charging stations.     **Regional Offices: A Network of Strategic Locations**     Octank Financial has a strong presence in major cities across the globe, with 15 regional offices in North America, Europe, Asia, and Oceania. These offices range from 50,000 to 200,000 square feet and accommodate between 250 and 1,000 employees, depending on the location.     Some of our key regional offices include:     1. Octank West, located in San Francisco, California, is a 120,000-square-foot building that serves as our hub for software engineering and product management. This office is home to more than 600 employees, including PersonB, our Vice President of Software Engineering. 2.\n",
      "\n",
      "Chunk 1 Location:  {'s3Location': {'uri': 's3://standard-kb-4005552/octank_financial_10K.pdf'}, 'type': 'S3'}\n",
      "\n",
      "Chunk 1 Metadata:  {'x-amz-bedrock-kb-source-uri': 's3://standard-kb-4005552/octank_financial_10K.pdf', 'x-amz-bedrock-kb-document-page-number': 30.0, 'x-amz-bedrock-kb-chunk-id': '1%3A0%3AC1SpXpUBb0FvOKWB5nUj', 'x-amz-bedrock-kb-data-source-id': 'R0XGPXM6EW'}\n",
      "\n"
     ]
    }
   ],
   "source": [
    "response_with_qr = response_ret['citations'][0]['retrievedReferences']\n",
    "print(\"# of citations or chunks used to generate the response: \", len(response_with_qr))\n",
    "\n",
    "\n",
    "citations_rag_print(response_with_qr)"
   ]
  },
  {
   "cell_type": "markdown",
   "id": "96e4dcba-d975-4506-a7d9-6e52f6f51019",
   "metadata": {},
   "source": [
    "We can see that with query reformulation turned on, the chunks that have been retrieved now provide context for the whistlblower scandal and the location of the waterfront property components."
   ]
  },
  {
   "cell_type": "markdown",
   "id": "ec2a29f6b6e27c46",
   "metadata": {
    "tags": []
   },
   "source": [
    "### Observing prompt decomposition using CloudWatch Logs\n",
    "\n",
    "Before performing retrieval, the complex query is broken down into multiple subqueries. This can be seen for the above example query when we isolate the invocation for the decomposition action where our __standalone_question__ is our original query and the resulting subqueries are shown between __\\<query\\>__ tags\n",
    "\n",
    "__Note__: You must enable invocation logging in Bedrock for the logs to be viewed in CloudWatch. Please refer [here](https://docs.aws.amazon.com/bedrock/latest/userguide/model-invocation-logging.html) for details.\n",
    "\n",
    "\n",
    "```\n",
    "<generated_queries>\n",
    "\n",
    "<standalone_question>\n",
    "What is octank tower and how does the whistleblower scandal hurt the company and its image?\n",
    "</standalone_question>\n",
    "\n",
    "<query>\n",
    "What is octank tower?\n",
    "</query>\n",
    "\n",
    "<query>\n",
    "What is the whistleblower scandal involving Octank company?\n",
    "</query>\n",
    "\n",
    "<query>\n",
    "How did the whistleblower scandal affect Octank company's reputation and public image?\n",
    "</query>\n",
    "\n",
    "</generated_queries>\n",
    "```\n"
   ]
  },
  {
   "cell_type": "markdown",
   "id": "50222f34",
   "metadata": {},
   "source": [
    "<div class=\"alert alert-block alert-warning\">\n",
    "<b>Note:</b> Remember to delete KB, OSS index and related IAM roles and policies to avoid incurring any charges.\n",
    "</div>"
   ]
  },
  {
   "cell_type": "code",
   "execution_count": 15,
   "id": "01268c2e-6bd7-4da2-b8c3-2e916bf719eb",
   "metadata": {},
   "outputs": [
    {
     "name": "stdout",
     "output_type": "stream",
     "text": [
      "===============================Knowledge base with fixed chunking==============================\n",
      "\n",
      "Deleted data source R0XGPXM6EW\n",
      "======== Knowledge base and all data sources deleted =========\n",
      "Found bucket standard-kb-4005552\n",
      "Deleted all objects in bucket standard-kb-4005552\n",
      "Deleted bucket standard-kb-4005552\n",
      "======== S3 bucket deletion process completed =========\n",
      "Found role AmazonBedrockExecutionRoleForKnowledgeBase_4005552-f\n",
      "======Attached policies with role AmazonBedrockExecutionRoleForKnowledgeBase_4005552-f========\n",
      " [{'PolicyName': 'AmazonBedrockCloudWatchPolicyForKnowledgeBase_4005552-f', 'PolicyArn': 'arn:aws:iam::017444429555:policy/AmazonBedrockCloudWatchPolicyForKnowledgeBase_4005552-f'}, {'PolicyName': 'AmazonBedrockS3PolicyForKnowledgeBase_4005552-f', 'PolicyArn': 'arn:aws:iam::017444429555:policy/AmazonBedrockS3PolicyForKnowledgeBase_4005552-f'}, {'PolicyName': 'AmazonBedrockFoundationModelPolicyForKnowledgeBase_4005552-f', 'PolicyArn': 'arn:aws:iam::017444429555:policy/AmazonBedrockFoundationModelPolicyForKnowledgeBase_4005552-f'}, {'PolicyName': 'AmazonBedrockOSSPolicyForKnowledgeBase_4005552-f', 'PolicyArn': 'arn:aws:iam::017444429555:policy/AmazonBedrockOSSPolicyForKnowledgeBase_4005552-f'}]\n",
      "Detached policy AmazonBedrockCloudWatchPolicyForKnowledgeBase_4005552-f from role AmazonBedrockExecutionRoleForKnowledgeBase_4005552-f\n",
      "Deleted policy AmazonBedrockCloudWatchPolicyForKnowledgeBase_4005552-f from role AmazonBedrockExecutionRoleForKnowledgeBase_4005552-f\n",
      "Detached policy AmazonBedrockS3PolicyForKnowledgeBase_4005552-f from role AmazonBedrockExecutionRoleForKnowledgeBase_4005552-f\n",
      "Deleted policy AmazonBedrockS3PolicyForKnowledgeBase_4005552-f from role AmazonBedrockExecutionRoleForKnowledgeBase_4005552-f\n",
      "Detached policy AmazonBedrockFoundationModelPolicyForKnowledgeBase_4005552-f from role AmazonBedrockExecutionRoleForKnowledgeBase_4005552-f\n",
      "Deleted policy AmazonBedrockFoundationModelPolicyForKnowledgeBase_4005552-f from role AmazonBedrockExecutionRoleForKnowledgeBase_4005552-f\n",
      "Detached policy AmazonBedrockOSSPolicyForKnowledgeBase_4005552-f from role AmazonBedrockExecutionRoleForKnowledgeBase_4005552-f\n",
      "Deleted policy AmazonBedrockOSSPolicyForKnowledgeBase_4005552-f from role AmazonBedrockExecutionRoleForKnowledgeBase_4005552-f\n",
      "Deleted role AmazonBedrockExecutionRoleForKnowledgeBase_4005552-f\n",
      "======== All IAM roles and policies deleted =========\n",
      "======== Vector Index, collection and associated policies deleted =========\n"
     ]
    }
   ],
   "source": [
    "print(\"===============================Knowledge base with fixed chunking==============================\\n\")\n",
    "knowledge_base_standard.delete_kb(delete_s3_bucket=True, delete_iam_roles_and_policies=True)"
   ]
  },
  {
   "cell_type": "markdown",
   "id": "bbbb1e2d-837e-4f04-8696-6b7f31a337fd",
   "metadata": {},
   "source": [
    "Now that we have seen how query reformulation works and how it can improve responses to complex queries, we invite you to dive deeper and experiment with this technique to optimize your RAG worflow. "
   ]
  }
 ],
 "metadata": {
  "availableInstances": [
   {
    "_defaultOrder": 0,
    "_isFastLaunch": true,
    "category": "General purpose",
    "gpuNum": 0,
    "hideHardwareSpecs": false,
    "memoryGiB": 4,
    "name": "ml.t3.medium",
    "vcpuNum": 2
   },
   {
    "_defaultOrder": 1,
    "_isFastLaunch": false,
    "category": "General purpose",
    "gpuNum": 0,
    "hideHardwareSpecs": false,
    "memoryGiB": 8,
    "name": "ml.t3.large",
    "vcpuNum": 2
   },
   {
    "_defaultOrder": 2,
    "_isFastLaunch": false,
    "category": "General purpose",
    "gpuNum": 0,
    "hideHardwareSpecs": false,
    "memoryGiB": 16,
    "name": "ml.t3.xlarge",
    "vcpuNum": 4
   },
   {
    "_defaultOrder": 3,
    "_isFastLaunch": false,
    "category": "General purpose",
    "gpuNum": 0,
    "hideHardwareSpecs": false,
    "memoryGiB": 32,
    "name": "ml.t3.2xlarge",
    "vcpuNum": 8
   },
   {
    "_defaultOrder": 4,
    "_isFastLaunch": true,
    "category": "General purpose",
    "gpuNum": 0,
    "hideHardwareSpecs": false,
    "memoryGiB": 8,
    "name": "ml.m5.large",
    "vcpuNum": 2
   },
   {
    "_defaultOrder": 5,
    "_isFastLaunch": false,
    "category": "General purpose",
    "gpuNum": 0,
    "hideHardwareSpecs": false,
    "memoryGiB": 16,
    "name": "ml.m5.xlarge",
    "vcpuNum": 4
   },
   {
    "_defaultOrder": 6,
    "_isFastLaunch": false,
    "category": "General purpose",
    "gpuNum": 0,
    "hideHardwareSpecs": false,
    "memoryGiB": 32,
    "name": "ml.m5.2xlarge",
    "vcpuNum": 8
   },
   {
    "_defaultOrder": 7,
    "_isFastLaunch": false,
    "category": "General purpose",
    "gpuNum": 0,
    "hideHardwareSpecs": false,
    "memoryGiB": 64,
    "name": "ml.m5.4xlarge",
    "vcpuNum": 16
   },
   {
    "_defaultOrder": 8,
    "_isFastLaunch": false,
    "category": "General purpose",
    "gpuNum": 0,
    "hideHardwareSpecs": false,
    "memoryGiB": 128,
    "name": "ml.m5.8xlarge",
    "vcpuNum": 32
   },
   {
    "_defaultOrder": 9,
    "_isFastLaunch": false,
    "category": "General purpose",
    "gpuNum": 0,
    "hideHardwareSpecs": false,
    "memoryGiB": 192,
    "name": "ml.m5.12xlarge",
    "vcpuNum": 48
   },
   {
    "_defaultOrder": 10,
    "_isFastLaunch": false,
    "category": "General purpose",
    "gpuNum": 0,
    "hideHardwareSpecs": false,
    "memoryGiB": 256,
    "name": "ml.m5.16xlarge",
    "vcpuNum": 64
   },
   {
    "_defaultOrder": 11,
    "_isFastLaunch": false,
    "category": "General purpose",
    "gpuNum": 0,
    "hideHardwareSpecs": false,
    "memoryGiB": 384,
    "name": "ml.m5.24xlarge",
    "vcpuNum": 96
   },
   {
    "_defaultOrder": 12,
    "_isFastLaunch": false,
    "category": "General purpose",
    "gpuNum": 0,
    "hideHardwareSpecs": false,
    "memoryGiB": 8,
    "name": "ml.m5d.large",
    "vcpuNum": 2
   },
   {
    "_defaultOrder": 13,
    "_isFastLaunch": false,
    "category": "General purpose",
    "gpuNum": 0,
    "hideHardwareSpecs": false,
    "memoryGiB": 16,
    "name": "ml.m5d.xlarge",
    "vcpuNum": 4
   },
   {
    "_defaultOrder": 14,
    "_isFastLaunch": false,
    "category": "General purpose",
    "gpuNum": 0,
    "hideHardwareSpecs": false,
    "memoryGiB": 32,
    "name": "ml.m5d.2xlarge",
    "vcpuNum": 8
   },
   {
    "_defaultOrder": 15,
    "_isFastLaunch": false,
    "category": "General purpose",
    "gpuNum": 0,
    "hideHardwareSpecs": false,
    "memoryGiB": 64,
    "name": "ml.m5d.4xlarge",
    "vcpuNum": 16
   },
   {
    "_defaultOrder": 16,
    "_isFastLaunch": false,
    "category": "General purpose",
    "gpuNum": 0,
    "hideHardwareSpecs": false,
    "memoryGiB": 128,
    "name": "ml.m5d.8xlarge",
    "vcpuNum": 32
   },
   {
    "_defaultOrder": 17,
    "_isFastLaunch": false,
    "category": "General purpose",
    "gpuNum": 0,
    "hideHardwareSpecs": false,
    "memoryGiB": 192,
    "name": "ml.m5d.12xlarge",
    "vcpuNum": 48
   },
   {
    "_defaultOrder": 18,
    "_isFastLaunch": false,
    "category": "General purpose",
    "gpuNum": 0,
    "hideHardwareSpecs": false,
    "memoryGiB": 256,
    "name": "ml.m5d.16xlarge",
    "vcpuNum": 64
   },
   {
    "_defaultOrder": 19,
    "_isFastLaunch": false,
    "category": "General purpose",
    "gpuNum": 0,
    "hideHardwareSpecs": false,
    "memoryGiB": 384,
    "name": "ml.m5d.24xlarge",
    "vcpuNum": 96
   },
   {
    "_defaultOrder": 20,
    "_isFastLaunch": false,
    "category": "General purpose",
    "gpuNum": 0,
    "hideHardwareSpecs": true,
    "memoryGiB": 0,
    "name": "ml.geospatial.interactive",
    "supportedImageNames": [
     "sagemaker-geospatial-v1-0"
    ],
    "vcpuNum": 0
   },
   {
    "_defaultOrder": 21,
    "_isFastLaunch": true,
    "category": "Compute optimized",
    "gpuNum": 0,
    "hideHardwareSpecs": false,
    "memoryGiB": 4,
    "name": "ml.c5.large",
    "vcpuNum": 2
   },
   {
    "_defaultOrder": 22,
    "_isFastLaunch": false,
    "category": "Compute optimized",
    "gpuNum": 0,
    "hideHardwareSpecs": false,
    "memoryGiB": 8,
    "name": "ml.c5.xlarge",
    "vcpuNum": 4
   },
   {
    "_defaultOrder": 23,
    "_isFastLaunch": false,
    "category": "Compute optimized",
    "gpuNum": 0,
    "hideHardwareSpecs": false,
    "memoryGiB": 16,
    "name": "ml.c5.2xlarge",
    "vcpuNum": 8
   },
   {
    "_defaultOrder": 24,
    "_isFastLaunch": false,
    "category": "Compute optimized",
    "gpuNum": 0,
    "hideHardwareSpecs": false,
    "memoryGiB": 32,
    "name": "ml.c5.4xlarge",
    "vcpuNum": 16
   },
   {
    "_defaultOrder": 25,
    "_isFastLaunch": false,
    "category": "Compute optimized",
    "gpuNum": 0,
    "hideHardwareSpecs": false,
    "memoryGiB": 72,
    "name": "ml.c5.9xlarge",
    "vcpuNum": 36
   },
   {
    "_defaultOrder": 26,
    "_isFastLaunch": false,
    "category": "Compute optimized",
    "gpuNum": 0,
    "hideHardwareSpecs": false,
    "memoryGiB": 96,
    "name": "ml.c5.12xlarge",
    "vcpuNum": 48
   },
   {
    "_defaultOrder": 27,
    "_isFastLaunch": false,
    "category": "Compute optimized",
    "gpuNum": 0,
    "hideHardwareSpecs": false,
    "memoryGiB": 144,
    "name": "ml.c5.18xlarge",
    "vcpuNum": 72
   },
   {
    "_defaultOrder": 28,
    "_isFastLaunch": false,
    "category": "Compute optimized",
    "gpuNum": 0,
    "hideHardwareSpecs": false,
    "memoryGiB": 192,
    "name": "ml.c5.24xlarge",
    "vcpuNum": 96
   },
   {
    "_defaultOrder": 29,
    "_isFastLaunch": true,
    "category": "Accelerated computing",
    "gpuNum": 1,
    "hideHardwareSpecs": false,
    "memoryGiB": 16,
    "name": "ml.g4dn.xlarge",
    "vcpuNum": 4
   },
   {
    "_defaultOrder": 30,
    "_isFastLaunch": false,
    "category": "Accelerated computing",
    "gpuNum": 1,
    "hideHardwareSpecs": false,
    "memoryGiB": 32,
    "name": "ml.g4dn.2xlarge",
    "vcpuNum": 8
   },
   {
    "_defaultOrder": 31,
    "_isFastLaunch": false,
    "category": "Accelerated computing",
    "gpuNum": 1,
    "hideHardwareSpecs": false,
    "memoryGiB": 64,
    "name": "ml.g4dn.4xlarge",
    "vcpuNum": 16
   },
   {
    "_defaultOrder": 32,
    "_isFastLaunch": false,
    "category": "Accelerated computing",
    "gpuNum": 1,
    "hideHardwareSpecs": false,
    "memoryGiB": 128,
    "name": "ml.g4dn.8xlarge",
    "vcpuNum": 32
   },
   {
    "_defaultOrder": 33,
    "_isFastLaunch": false,
    "category": "Accelerated computing",
    "gpuNum": 4,
    "hideHardwareSpecs": false,
    "memoryGiB": 192,
    "name": "ml.g4dn.12xlarge",
    "vcpuNum": 48
   },
   {
    "_defaultOrder": 34,
    "_isFastLaunch": false,
    "category": "Accelerated computing",
    "gpuNum": 1,
    "hideHardwareSpecs": false,
    "memoryGiB": 256,
    "name": "ml.g4dn.16xlarge",
    "vcpuNum": 64
   },
   {
    "_defaultOrder": 35,
    "_isFastLaunch": false,
    "category": "Accelerated computing",
    "gpuNum": 1,
    "hideHardwareSpecs": false,
    "memoryGiB": 61,
    "name": "ml.p3.2xlarge",
    "vcpuNum": 8
   },
   {
    "_defaultOrder": 36,
    "_isFastLaunch": false,
    "category": "Accelerated computing",
    "gpuNum": 4,
    "hideHardwareSpecs": false,
    "memoryGiB": 244,
    "name": "ml.p3.8xlarge",
    "vcpuNum": 32
   },
   {
    "_defaultOrder": 37,
    "_isFastLaunch": false,
    "category": "Accelerated computing",
    "gpuNum": 8,
    "hideHardwareSpecs": false,
    "memoryGiB": 488,
    "name": "ml.p3.16xlarge",
    "vcpuNum": 64
   },
   {
    "_defaultOrder": 38,
    "_isFastLaunch": false,
    "category": "Accelerated computing",
    "gpuNum": 8,
    "hideHardwareSpecs": false,
    "memoryGiB": 768,
    "name": "ml.p3dn.24xlarge",
    "vcpuNum": 96
   },
   {
    "_defaultOrder": 39,
    "_isFastLaunch": false,
    "category": "Memory Optimized",
    "gpuNum": 0,
    "hideHardwareSpecs": false,
    "memoryGiB": 16,
    "name": "ml.r5.large",
    "vcpuNum": 2
   },
   {
    "_defaultOrder": 40,
    "_isFastLaunch": false,
    "category": "Memory Optimized",
    "gpuNum": 0,
    "hideHardwareSpecs": false,
    "memoryGiB": 32,
    "name": "ml.r5.xlarge",
    "vcpuNum": 4
   },
   {
    "_defaultOrder": 41,
    "_isFastLaunch": false,
    "category": "Memory Optimized",
    "gpuNum": 0,
    "hideHardwareSpecs": false,
    "memoryGiB": 64,
    "name": "ml.r5.2xlarge",
    "vcpuNum": 8
   },
   {
    "_defaultOrder": 42,
    "_isFastLaunch": false,
    "category": "Memory Optimized",
    "gpuNum": 0,
    "hideHardwareSpecs": false,
    "memoryGiB": 128,
    "name": "ml.r5.4xlarge",
    "vcpuNum": 16
   },
   {
    "_defaultOrder": 43,
    "_isFastLaunch": false,
    "category": "Memory Optimized",
    "gpuNum": 0,
    "hideHardwareSpecs": false,
    "memoryGiB": 256,
    "name": "ml.r5.8xlarge",
    "vcpuNum": 32
   },
   {
    "_defaultOrder": 44,
    "_isFastLaunch": false,
    "category": "Memory Optimized",
    "gpuNum": 0,
    "hideHardwareSpecs": false,
    "memoryGiB": 384,
    "name": "ml.r5.12xlarge",
    "vcpuNum": 48
   },
   {
    "_defaultOrder": 45,
    "_isFastLaunch": false,
    "category": "Memory Optimized",
    "gpuNum": 0,
    "hideHardwareSpecs": false,
    "memoryGiB": 512,
    "name": "ml.r5.16xlarge",
    "vcpuNum": 64
   },
   {
    "_defaultOrder": 46,
    "_isFastLaunch": false,
    "category": "Memory Optimized",
    "gpuNum": 0,
    "hideHardwareSpecs": false,
    "memoryGiB": 768,
    "name": "ml.r5.24xlarge",
    "vcpuNum": 96
   },
   {
    "_defaultOrder": 47,
    "_isFastLaunch": false,
    "category": "Accelerated computing",
    "gpuNum": 1,
    "hideHardwareSpecs": false,
    "memoryGiB": 16,
    "name": "ml.g5.xlarge",
    "vcpuNum": 4
   },
   {
    "_defaultOrder": 48,
    "_isFastLaunch": false,
    "category": "Accelerated computing",
    "gpuNum": 1,
    "hideHardwareSpecs": false,
    "memoryGiB": 32,
    "name": "ml.g5.2xlarge",
    "vcpuNum": 8
   },
   {
    "_defaultOrder": 49,
    "_isFastLaunch": false,
    "category": "Accelerated computing",
    "gpuNum": 1,
    "hideHardwareSpecs": false,
    "memoryGiB": 64,
    "name": "ml.g5.4xlarge",
    "vcpuNum": 16
   },
   {
    "_defaultOrder": 50,
    "_isFastLaunch": false,
    "category": "Accelerated computing",
    "gpuNum": 1,
    "hideHardwareSpecs": false,
    "memoryGiB": 128,
    "name": "ml.g5.8xlarge",
    "vcpuNum": 32
   },
   {
    "_defaultOrder": 51,
    "_isFastLaunch": false,
    "category": "Accelerated computing",
    "gpuNum": 1,
    "hideHardwareSpecs": false,
    "memoryGiB": 256,
    "name": "ml.g5.16xlarge",
    "vcpuNum": 64
   },
   {
    "_defaultOrder": 52,
    "_isFastLaunch": false,
    "category": "Accelerated computing",
    "gpuNum": 4,
    "hideHardwareSpecs": false,
    "memoryGiB": 192,
    "name": "ml.g5.12xlarge",
    "vcpuNum": 48
   },
   {
    "_defaultOrder": 53,
    "_isFastLaunch": false,
    "category": "Accelerated computing",
    "gpuNum": 4,
    "hideHardwareSpecs": false,
    "memoryGiB": 384,
    "name": "ml.g5.24xlarge",
    "vcpuNum": 96
   },
   {
    "_defaultOrder": 54,
    "_isFastLaunch": false,
    "category": "Accelerated computing",
    "gpuNum": 8,
    "hideHardwareSpecs": false,
    "memoryGiB": 768,
    "name": "ml.g5.48xlarge",
    "vcpuNum": 192
   },
   {
    "_defaultOrder": 55,
    "_isFastLaunch": false,
    "category": "Accelerated computing",
    "gpuNum": 8,
    "hideHardwareSpecs": false,
    "memoryGiB": 1152,
    "name": "ml.p4d.24xlarge",
    "vcpuNum": 96
   },
   {
    "_defaultOrder": 56,
    "_isFastLaunch": false,
    "category": "Accelerated computing",
    "gpuNum": 8,
    "hideHardwareSpecs": false,
    "memoryGiB": 1152,
    "name": "ml.p4de.24xlarge",
    "vcpuNum": 96
   },
   {
    "_defaultOrder": 57,
    "_isFastLaunch": false,
    "category": "Accelerated computing",
    "gpuNum": 0,
    "hideHardwareSpecs": false,
    "memoryGiB": 32,
    "name": "ml.trn1.2xlarge",
    "vcpuNum": 8
   },
   {
    "_defaultOrder": 58,
    "_isFastLaunch": false,
    "category": "Accelerated computing",
    "gpuNum": 0,
    "hideHardwareSpecs": false,
    "memoryGiB": 512,
    "name": "ml.trn1.32xlarge",
    "vcpuNum": 128
   },
   {
    "_defaultOrder": 59,
    "_isFastLaunch": false,
    "category": "Accelerated computing",
    "gpuNum": 0,
    "hideHardwareSpecs": false,
    "memoryGiB": 512,
    "name": "ml.trn1n.32xlarge",
    "vcpuNum": 128
   }
  ],
  "instance_type": "ml.t3.medium",
  "kernelspec": {
   "display_name": "Python 3 (ipykernel)",
   "language": "python",
   "name": "python3"
  },
  "language_info": {
   "codemirror_mode": {
    "name": "ipython",
    "version": 3
   },
   "file_extension": ".py",
   "mimetype": "text/x-python",
   "name": "python",
   "nbconvert_exporter": "python",
   "pygments_lexer": "ipython3",
   "version": "3.11.11"
  }
 },
 "nbformat": 4,
 "nbformat_minor": 5
}
